{
 "cells": [
  {
   "cell_type": "code",
   "execution_count": 1,
   "id": "3c39fb2c",
   "metadata": {},
   "outputs": [],
   "source": [
    "import yfinance as yf\n",
    "import matplotlib.pyplot as plt\n",
    "from matplotlib.pyplot import figure\n",
    "import numpy as np\n",
    "import json"
   ]
  },
  {
   "cell_type": "code",
   "execution_count": 2,
   "id": "475ea8d4",
   "metadata": {},
   "outputs": [],
   "source": [
    "def getTickerData(ticker):\n",
    "    # 2022 Superbowl Date & 1 year +\n",
    "    start_date = '2022-02-08'\n",
    "    end_date = '2023-02-08'\n",
    "    \n",
    "    # get data\n",
    "    data = yf.download(ticker, start_date, end_date)\n",
    "    \n",
    "    # adjust df for plotting\n",
    "    data['Date'] = data.index\n",
    "    \n",
    "    data.reset_index(drop=True, inplace=True)\n",
    "    \n",
    "    return data\n",
    "\n",
    "def loadCommercialsJSON():\n",
    "    f = open('../static/commercials.json')\n",
    "    commercials = json.load(f)\n",
    "    \n",
    "    return commercials\n",
    "\n",
    "def plotAndSaveImage(data, commercial_image):\n",
    "    fig, ax = plt.subplots(figsize=(16,9))\n",
    "    img = plt.imread('../static/' + commercial_image)\n",
    "    \n",
    "    start_price = data.iloc[0].Open\n",
    "    end_price = data.iloc[len(data.index)-1].Close\n",
    "    \n",
    "    color = 'green' if end_price >= start_price else 'red'\n",
    "    \n",
    "    plt.plot(data['Date'], data['Open'], linewidth=20, color=color, alpha=0.8)\n",
    "    fig.figimage(img, 0, 0, resize=True, zorder=-1)\n",
    "    \n",
    "    plt.tight_layout()\n",
    "    plt.axis('off')\n",
    "    plt.margins(x=0)\n",
    "    plt.savefig(commercial_image.replace('.jpg', '') + '_graph.jpg', bbox_inches='tight', pad_inches=0)\n",
    "#     plt.tight_layout()\n",
    "\n",
    "def generateImagesOverlays():\n",
    "    commercials = loadCommercialsJSON()\n",
    "\n",
    "    for commercial in commercials['commercials']:\n",
    "        ticker = commercial['ticker'].replace('$', '')\n",
    "        commercial_image = commercial['imageLoc']\n",
    "\n",
    "        tickerData = getTickerData(ticker)\n",
    "\n",
    "        plotAndSaveImage(tickerData, commercial_image)"
   ]
  },
  {
   "cell_type": "code",
   "execution_count": 6,
   "id": "59c1d1f1",
   "metadata": {},
   "outputs": [],
   "source": [
    "def getOneYearPerformance():\n",
    "    commercials = loadCommercialsJSON()\n",
    "    \n",
    "    for commercial in commercials['commercials']:\n",
    "        \n",
    "        ticker = commercial['ticker'].replace('$', '')\n",
    "        tickerData = getTickerData(ticker)\n",
    "        \n",
    "        start_price = tickerData.iloc[0].Open\n",
    "        end_price = tickerData.iloc[len(tickerData.index)-1].Close\n",
    "        \n",
    "        yoy_return = 100 + 100 * (end_price - start_price)/start_price\n",
    "        print(ticker, start_price, end_price, yoy_return)"
   ]
  }
 ],
 "metadata": {
  "kernelspec": {
   "display_name": "Python 3",
   "language": "python",
   "name": "python3"
  },
  "language_info": {
   "codemirror_mode": {
    "name": "ipython",
    "version": 3
   },
   "file_extension": ".py",
   "mimetype": "text/x-python",
   "name": "python",
   "nbconvert_exporter": "python",
   "pygments_lexer": "ipython3",
   "version": "3.10.4"
  },
  "vscode": {
   "interpreter": {
    "hash": "aee8b7b246df8f9039afb4144a1f6fd8d2ca17a180786b69acc140d282b71a49"
   }
  }
 },
 "nbformat": 4,
 "nbformat_minor": 5
}
