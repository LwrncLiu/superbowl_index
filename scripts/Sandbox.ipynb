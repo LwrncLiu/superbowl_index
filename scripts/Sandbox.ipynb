{
 "cells": [
  {
   "cell_type": "code",
   "execution_count": 2,
   "id": "b7199fdc",
   "metadata": {},
   "outputs": [
    {
     "name": "stdout",
     "output_type": "stream",
     "text": [
      "Collecting yfinance\n",
      "  Using cached yfinance-0.2.9-py2.py3-none-any.whl (55 kB)\n",
      "Collecting lxml>=4.9.1\n",
      "  Downloading lxml-4.9.2-cp39-cp39-macosx_10_15_x86_64.whl (4.8 MB)\n",
      "\u001b[K     |████████████████████████████████| 4.8 MB 2.9 MB/s eta 0:00:01\n",
      "\u001b[?25hCollecting multitasking>=0.0.7\n",
      "  Using cached multitasking-0.0.11-py3-none-any.whl (8.5 kB)\n",
      "Requirement already satisfied: appdirs>=1.4.4 in /opt/anaconda3/lib/python3.9/site-packages (from yfinance) (1.4.4)\n",
      "Requirement already satisfied: numpy>=1.16.5 in /opt/anaconda3/lib/python3.9/site-packages (from yfinance) (1.21.5)\n",
      "Collecting html5lib>=1.1\n",
      "  Using cached html5lib-1.1-py2.py3-none-any.whl (112 kB)\n",
      "Requirement already satisfied: requests>=2.26 in /opt/anaconda3/lib/python3.9/site-packages (from yfinance) (2.27.1)\n",
      "Collecting pytz>=2022.5\n",
      "  Using cached pytz-2022.7.1-py2.py3-none-any.whl (499 kB)\n",
      "Requirement already satisfied: pandas>=1.3.0 in /opt/anaconda3/lib/python3.9/site-packages (from yfinance) (1.4.2)\n",
      "Requirement already satisfied: cryptography>=3.3.2 in /opt/anaconda3/lib/python3.9/site-packages (from yfinance) (3.4.8)\n",
      "Collecting frozendict>=2.3.4\n",
      "  Downloading frozendict-2.3.4-cp39-cp39-macosx_10_9_x86_64.whl (33 kB)\n",
      "Requirement already satisfied: beautifulsoup4>=4.11.1 in /opt/anaconda3/lib/python3.9/site-packages (from yfinance) (4.11.1)\n",
      "Requirement already satisfied: soupsieve>1.2 in /opt/anaconda3/lib/python3.9/site-packages (from beautifulsoup4>=4.11.1->yfinance) (2.3.1)\n",
      "Requirement already satisfied: cffi>=1.12 in /opt/anaconda3/lib/python3.9/site-packages (from cryptography>=3.3.2->yfinance) (1.15.0)\n",
      "Requirement already satisfied: pycparser in /opt/anaconda3/lib/python3.9/site-packages (from cffi>=1.12->cryptography>=3.3.2->yfinance) (2.21)\n",
      "Requirement already satisfied: six>=1.9 in /opt/anaconda3/lib/python3.9/site-packages (from html5lib>=1.1->yfinance) (1.16.0)\n",
      "Requirement already satisfied: webencodings in /opt/anaconda3/lib/python3.9/site-packages (from html5lib>=1.1->yfinance) (0.5.1)\n",
      "Requirement already satisfied: python-dateutil>=2.8.1 in /opt/anaconda3/lib/python3.9/site-packages (from pandas>=1.3.0->yfinance) (2.8.2)\n",
      "Requirement already satisfied: idna<4,>=2.5 in /opt/anaconda3/lib/python3.9/site-packages (from requests>=2.26->yfinance) (3.3)\n",
      "Requirement already satisfied: charset-normalizer~=2.0.0 in /opt/anaconda3/lib/python3.9/site-packages (from requests>=2.26->yfinance) (2.0.4)\n",
      "Requirement already satisfied: certifi>=2017.4.17 in /opt/anaconda3/lib/python3.9/site-packages (from requests>=2.26->yfinance) (2021.10.8)\n",
      "Requirement already satisfied: urllib3<1.27,>=1.21.1 in /opt/anaconda3/lib/python3.9/site-packages (from requests>=2.26->yfinance) (1.26.9)\n",
      "Installing collected packages: pytz, multitasking, lxml, html5lib, frozendict, yfinance\n",
      "  Attempting uninstall: pytz\n",
      "    Found existing installation: pytz 2021.3\n",
      "    Uninstalling pytz-2021.3:\n",
      "      Successfully uninstalled pytz-2021.3\n",
      "  Attempting uninstall: lxml\n",
      "    Found existing installation: lxml 4.8.0\n",
      "    Uninstalling lxml-4.8.0:\n",
      "      Successfully uninstalled lxml-4.8.0\n",
      "\u001b[31mERROR: pip's dependency resolver does not currently take into account all the packages that are installed. This behaviour is the source of the following dependency conflicts.\n",
      "conda-repo-cli 1.0.4 requires pathlib, which is not installed.\u001b[0m\n",
      "Successfully installed frozendict-2.3.4 html5lib-1.1 lxml-4.9.2 multitasking-0.0.11 pytz-2022.7.1 yfinance-0.2.9\n",
      "Note: you may need to restart the kernel to use updated packages.\n"
     ]
    }
   ],
   "source": [
    "%pip install yfinance"
   ]
  },
  {
   "cell_type": "code",
   "execution_count": 1,
   "id": "3c39fb2c",
   "metadata": {},
   "outputs": [],
   "source": [
    "import yfinance as yf\n",
    "import matplotlib.pyplot as plt\n",
    "from matplotlib.pyplot import figure\n",
    "import numpy as np\n",
    "import json"
   ]
  },
  {
   "cell_type": "code",
   "execution_count": 5,
   "id": "475ea8d4",
   "metadata": {},
   "outputs": [],
   "source": [
    "def getTickerData(ticker):\n",
    "    # 2022 Superbowl Date & 1 year +\n",
    "    start_date = '2022-02-08'\n",
    "    end_date = '2023-02-08'\n",
    "    \n",
    "    # get data\n",
    "    data = yf.download(ticker, start_date, end_date)\n",
    "    \n",
    "    # adjust df for plotting\n",
    "    data['Date'] = data.index\n",
    "    \n",
    "    data.reset_index(drop=True, inplace=True)\n",
    "    \n",
    "    return data\n",
    "\n",
    "def loadCommercialsJSON():\n",
    "    f = open('../static/commercials.json')\n",
    "    commercials = json.load(f)\n",
    "    \n",
    "    return commercials\n",
    "\n",
    "def plotAndSaveImage(data, commercial_image):\n",
    "    fig, ax = plt.subplots(figsize=(16,9))\n",
    "    img = plt.imread('../static/' + commercial_image)\n",
    "    \n",
    "    start_price = data.iloc[0].Open\n",
    "    end_price = data.iloc[len(data.index)-1].Close\n",
    "    \n",
    "    color = 'green' if end_price >= start_price else 'red'\n",
    "    \n",
    "    plt.plot(data['Date'], data['Open'], linewidth=20, color=color, alpha=0.8)\n",
    "    fig.figimage(img, 0, 0, resize=True, zorder=-1)\n",
    "    \n",
    "    plt.tight_layout()\n",
    "    plt.axis('off')\n",
    "    plt.margins(x=0)\n",
    "    plt.savefig(commercial_image.replace('.jpg', '') + '_graph.jpg', bbox_inches='tight', pad_inches=0)\n",
    "#     plt.tight_layout()\n",
    "\n",
    "def generateImagesOverlays():\n",
    "    commercials = loadCommercialsJSON()\n",
    "\n",
    "    for commercial in commercials['commercials']:\n",
    "        ticker = commercial['ticker'].replace('$', '')\n",
    "        commercial_image = commercial['imageLoc']\n",
    "\n",
    "        tickerData = getTickerData(ticker)\n",
    "\n",
    "        plotAndSaveImage(tickerData, commercial_image)"
   ]
  },
  {
   "cell_type": "code",
   "execution_count": 3,
   "id": "59c1d1f1",
   "metadata": {},
   "outputs": [],
   "source": [
    "def getOneYearPerformance():\n",
    "    commercials = loadCommercialsJSON()\n",
    "    \n",
    "    for commercial in commercials['commercials']:\n",
    "        \n",
    "        ticker = commercial['ticker'].replace('$', '')\n",
    "        tickerData = getTickerData(ticker)\n",
    "        \n",
    "        start_price = tickerData.iloc[0].Open\n",
    "        end_price = tickerData.iloc[len(tickerData.index)-1].Close\n",
    "        \n",
    "        yoy_return = 1000 * (end_price - start_price)/start_price\n",
    "        print(ticker, start_price, end_price, yoy_return)"
   ]
  }
 ],
 "metadata": {
  "kernelspec": {
   "display_name": "Python 3",
   "language": "python",
   "name": "python3"
  },
  "language_info": {
   "codemirror_mode": {
    "name": "ipython",
    "version": 3
   },
   "file_extension": ".py",
   "mimetype": "text/x-python",
   "name": "python",
   "nbconvert_exporter": "python",
   "pygments_lexer": "ipython3",
   "version": "3.10.4"
  },
  "vscode": {
   "interpreter": {
    "hash": "aee8b7b246df8f9039afb4144a1f6fd8d2ca17a180786b69acc140d282b71a49"
   }
  }
 },
 "nbformat": 4,
 "nbformat_minor": 5
}
